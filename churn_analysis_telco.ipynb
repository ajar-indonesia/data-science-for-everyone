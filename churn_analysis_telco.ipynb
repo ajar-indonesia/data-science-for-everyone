{
 "cells": [
  {
   "cell_type": "markdown",
   "id": "25c7d86e-f527-4906-bde9-679fb5e63468",
   "metadata": {},
   "source": [
    "# Churn Prediction "
   ]
  },
  {
   "cell_type": "markdown",
   "id": "339ac9d3-e81a-47f4-be40-d8821ce139d7",
   "metadata": {},
   "source": [
    "## Library yang digunakan"
   ]
  },
  {
   "cell_type": "code",
   "execution_count": 52,
   "id": "a41229e7-d260-48c2-8c96-8e96e8f9dfe2",
   "metadata": {},
   "outputs": [],
   "source": [
    "# lib untuk data analisis\n",
    "import pandas as pd\n",
    "import numpy as np\n",
    "\n",
    "#lib untuk visualisasi\n",
    "import matplotlib.pyplot as plt\n",
    "import seaborn as sns"
   ]
  },
  {
   "cell_type": "markdown",
   "id": "1986584f-20b8-4760-8f32-3bfaa4b5d57f",
   "metadata": {},
   "source": [
    "## Dataset Description"
   ]
  },
  {
   "cell_type": "markdown",
   "id": "c6ccde8b-72fd-430f-b9d4-db5d7d520b8e",
   "metadata": {},
   "source": [
    "- Dataset dalam bentuk csv format <br>\n",
    "- Jumlah baris 6.950 dan kolom 13 <br>\n",
    "- Tidak ada missing values <br>\n",
    "- Churn variable sebeagai target variable<br>\n",
    "- Untuk detil datanya adalah sebagai berikut:\n",
    "> `UpdatedAt` Periode of Data taken <br>\n",
    "> `customerID` Customer ID <br>\n",
    "> `gender` Whether the customer is a male or a female (Male, Female) <br>\n",
    "> `SeniorCitizen` Whether the customer is a senior citizen or not (Yes, No)<br>\n",
    "> `Partner` Whether the customer has a partner or not (Yes, No)<br>\n",
    "> `tenure` Number of months the customer has stayed with the company<br>\n",
    "> `PhoneService` Whether the customer has a phone service or not (Yes, No)<br>\n",
    "> `InternetService` Customer’s internet service provider (Yes, No)<br>\n",
    "> `StreamingTV` Whether the customer has streaming TV or not (Yes, No)<br>\n",
    "> `PaperlessBilling` Whether the customer has paperless billing or not (Yes, No)<br>\n",
    "> `MonthlyCharges` The amount charged to the customer monthly<br>\n",
    "> `TotalCharges` The total amount charged to the customer<br>\n",
    "> `Churn` Whether the customer churned or not (Yes, No)<br>\n",
    "\n"
   ]
  },
  {
   "cell_type": "markdown",
   "id": "d00fe18e-be9b-40c6-929b-b4d27c661218",
   "metadata": {},
   "source": [
    "## Data Exploration"
   ]
  },
  {
   "cell_type": "code",
   "execution_count": 72,
   "id": "14f2ac1e-5876-4bcd-8fc5-91ca7173d0c1",
   "metadata": {},
   "outputs": [],
   "source": [
    "df = pd.read_csv('churn_telco.csv')"
   ]
  },
  {
   "cell_type": "code",
   "execution_count": 73,
   "id": "806261ae-31ae-4618-b1c9-299d7a27cd59",
   "metadata": {},
   "outputs": [
    {
     "data": {
      "text/plain": [
       "(6950, 13)"
      ]
     },
     "execution_count": 73,
     "metadata": {},
     "output_type": "execute_result"
    }
   ],
   "source": [
    "df.shape"
   ]
  },
  {
   "cell_type": "code",
   "execution_count": 74,
   "id": "77b3e82f-d17a-4c30-af9b-edb7ab304454",
   "metadata": {},
   "outputs": [
    {
     "data": {
      "text/html": [
       "<div>\n",
       "<style scoped>\n",
       "    .dataframe tbody tr th:only-of-type {\n",
       "        vertical-align: middle;\n",
       "    }\n",
       "\n",
       "    .dataframe tbody tr th {\n",
       "        vertical-align: top;\n",
       "    }\n",
       "\n",
       "    .dataframe thead th {\n",
       "        text-align: right;\n",
       "    }\n",
       "</style>\n",
       "<table border=\"1\" class=\"dataframe\">\n",
       "  <thead>\n",
       "    <tr style=\"text-align: right;\">\n",
       "      <th></th>\n",
       "      <th>UpdatedAt</th>\n",
       "      <th>customerID</th>\n",
       "      <th>gender</th>\n",
       "      <th>SeniorCitizen</th>\n",
       "      <th>Partner</th>\n",
       "      <th>tenure</th>\n",
       "      <th>PhoneService</th>\n",
       "      <th>StreamingTV</th>\n",
       "      <th>InternetService</th>\n",
       "      <th>PaperlessBilling</th>\n",
       "      <th>MonthlyCharges</th>\n",
       "      <th>TotalCharges</th>\n",
       "      <th>Churn</th>\n",
       "    </tr>\n",
       "  </thead>\n",
       "  <tbody>\n",
       "    <tr>\n",
       "      <th>0</th>\n",
       "      <td>202006</td>\n",
       "      <td>45759018157</td>\n",
       "      <td>Female</td>\n",
       "      <td>No</td>\n",
       "      <td>Yes</td>\n",
       "      <td>1</td>\n",
       "      <td>No</td>\n",
       "      <td>No</td>\n",
       "      <td>Yes</td>\n",
       "      <td>Yes</td>\n",
       "      <td>29.85</td>\n",
       "      <td>29.85</td>\n",
       "      <td>No</td>\n",
       "    </tr>\n",
       "    <tr>\n",
       "      <th>1</th>\n",
       "      <td>202006</td>\n",
       "      <td>45315483266</td>\n",
       "      <td>Male</td>\n",
       "      <td>No</td>\n",
       "      <td>Yes</td>\n",
       "      <td>60</td>\n",
       "      <td>Yes</td>\n",
       "      <td>No</td>\n",
       "      <td>No</td>\n",
       "      <td>Yes</td>\n",
       "      <td>20.50</td>\n",
       "      <td>1198.80</td>\n",
       "      <td>No</td>\n",
       "    </tr>\n",
       "    <tr>\n",
       "      <th>2</th>\n",
       "      <td>202006</td>\n",
       "      <td>45236961615</td>\n",
       "      <td>Male</td>\n",
       "      <td>No</td>\n",
       "      <td>No</td>\n",
       "      <td>5</td>\n",
       "      <td>Yes</td>\n",
       "      <td>Yes</td>\n",
       "      <td>Yes</td>\n",
       "      <td>No</td>\n",
       "      <td>104.10</td>\n",
       "      <td>541.90</td>\n",
       "      <td>Yes</td>\n",
       "    </tr>\n",
       "    <tr>\n",
       "      <th>3</th>\n",
       "      <td>202006</td>\n",
       "      <td>45929827382</td>\n",
       "      <td>Female</td>\n",
       "      <td>No</td>\n",
       "      <td>Yes</td>\n",
       "      <td>72</td>\n",
       "      <td>Yes</td>\n",
       "      <td>Yes</td>\n",
       "      <td>Yes</td>\n",
       "      <td>Yes</td>\n",
       "      <td>115.50</td>\n",
       "      <td>8312.75</td>\n",
       "      <td>No</td>\n",
       "    </tr>\n",
       "    <tr>\n",
       "      <th>4</th>\n",
       "      <td>202006</td>\n",
       "      <td>45305082233</td>\n",
       "      <td>Female</td>\n",
       "      <td>No</td>\n",
       "      <td>Yes</td>\n",
       "      <td>56</td>\n",
       "      <td>Yes</td>\n",
       "      <td>Yes</td>\n",
       "      <td>Yes</td>\n",
       "      <td>No</td>\n",
       "      <td>81.25</td>\n",
       "      <td>4620.40</td>\n",
       "      <td>No</td>\n",
       "    </tr>\n",
       "  </tbody>\n",
       "</table>\n",
       "</div>"
      ],
      "text/plain": [
       "   UpdatedAt   customerID  gender SeniorCitizen Partner  tenure PhoneService  \\\n",
       "0     202006  45759018157  Female            No     Yes       1           No   \n",
       "1     202006  45315483266    Male            No     Yes      60          Yes   \n",
       "2     202006  45236961615    Male            No      No       5          Yes   \n",
       "3     202006  45929827382  Female            No     Yes      72          Yes   \n",
       "4     202006  45305082233  Female            No     Yes      56          Yes   \n",
       "\n",
       "  StreamingTV InternetService PaperlessBilling  MonthlyCharges  TotalCharges  \\\n",
       "0          No             Yes              Yes           29.85         29.85   \n",
       "1          No              No              Yes           20.50       1198.80   \n",
       "2         Yes             Yes               No          104.10        541.90   \n",
       "3         Yes             Yes              Yes          115.50       8312.75   \n",
       "4         Yes             Yes               No           81.25       4620.40   \n",
       "\n",
       "  Churn  \n",
       "0    No  \n",
       "1    No  \n",
       "2   Yes  \n",
       "3    No  \n",
       "4    No  "
      ]
     },
     "execution_count": 74,
     "metadata": {},
     "output_type": "execute_result"
    }
   ],
   "source": [
    "df.head()"
   ]
  },
  {
   "cell_type": "code",
   "execution_count": 75,
   "id": "a7ac754a-cfbd-43a8-b1f0-a468f28d1b2f",
   "metadata": {},
   "outputs": [
    {
     "data": {
      "text/plain": [
       "6950"
      ]
     },
     "execution_count": 75,
     "metadata": {},
     "output_type": "execute_result"
    }
   ],
   "source": [
    "df['customerID'].nunique()"
   ]
  },
  {
   "cell_type": "code",
   "execution_count": 76,
   "id": "7c1e0ec3-da0b-421f-ab94-dedf3a401057",
   "metadata": {},
   "outputs": [
    {
     "name": "stdout",
     "output_type": "stream",
     "text": [
      "<class 'pandas.core.frame.DataFrame'>\n",
      "RangeIndex: 6950 entries, 0 to 6949\n",
      "Data columns (total 13 columns):\n",
      " #   Column            Non-Null Count  Dtype  \n",
      "---  ------            --------------  -----  \n",
      " 0   UpdatedAt         6950 non-null   int64  \n",
      " 1   customerID        6950 non-null   int64  \n",
      " 2   gender            6950 non-null   object \n",
      " 3   SeniorCitizen     6950 non-null   object \n",
      " 4   Partner           6950 non-null   object \n",
      " 5   tenure            6950 non-null   int64  \n",
      " 6   PhoneService      6950 non-null   object \n",
      " 7   StreamingTV       6950 non-null   object \n",
      " 8   InternetService   6950 non-null   object \n",
      " 9   PaperlessBilling  6950 non-null   object \n",
      " 10  MonthlyCharges    6950 non-null   float64\n",
      " 11  TotalCharges      6950 non-null   float64\n",
      " 12  Churn             6950 non-null   object \n",
      "dtypes: float64(2), int64(3), object(8)\n",
      "memory usage: 706.0+ KB\n"
     ]
    }
   ],
   "source": [
    "df.info()"
   ]
  },
  {
   "cell_type": "markdown",
   "id": "1f0342c0-b3e3-49ac-9c5e-2ba91fb6faf3",
   "metadata": {},
   "source": [
    "### Rasio jumlah customer yang churn dan tidak churn"
   ]
  },
  {
   "cell_type": "code",
   "execution_count": 77,
   "id": "58619e27-e918-4d8f-8732-270cd36a59fc",
   "metadata": {},
   "outputs": [
    {
     "data": {
      "text/plain": [
       "No     5114\n",
       "Yes    1836\n",
       "Name: Churn, dtype: int64"
      ]
     },
     "execution_count": 77,
     "metadata": {},
     "output_type": "execute_result"
    }
   ],
   "source": [
    "df.Churn.value_counts()"
   ]
  },
  {
   "cell_type": "code",
   "execution_count": 78,
   "id": "5b0859c8-eb34-4926-8a44-8f0606b8ce47",
   "metadata": {},
   "outputs": [
    {
     "data": {
      "text/plain": [
       "No     73.582734\n",
       "Yes    26.417266\n",
       "Name: Churn, dtype: float64"
      ]
     },
     "execution_count": 78,
     "metadata": {},
     "output_type": "execute_result"
    }
   ],
   "source": [
    "df.Churn.value_counts(normalize =True) * 100"
   ]
  },
  {
   "cell_type": "code",
   "execution_count": 79,
   "id": "c0f862fb-409e-48e3-973e-eca5f48ae922",
   "metadata": {},
   "outputs": [
    {
     "data": {
      "image/png": "[encoded data removed]",
      "text/plain": [
       "<Figure size 432x288 with 1 Axes>"
      ]
     },
     "metadata": {},
     "output_type": "display_data"
    }
   ],
   "source": [
    "churn  = df.Churn.value_counts()\n",
    "labels = list(churn.index)\n",
    "data   = list(churn.values) \n",
    "\n",
    "#define Seaborn color palette to use\n",
    "colors = sns.color_palette('pastel')\n",
    "\n",
    "#create pie chart\n",
    "plt.pie(data, labels = labels, colors = colors, autopct='%.0f%%')\n",
    "plt.show()"
   ]
  },
  {
   "cell_type": "markdown",
   "id": "e58c22e3-97f4-4540-bb21-9a89df313931",
   "metadata": {},
   "source": [
    "### Analisa numerical variables terhadap churn"
   ]
  },
  {
   "cell_type": "code",
   "execution_count": 80,
   "id": "ecba8789-a354-43db-a9da-c729c39f6428",
   "metadata": {},
   "outputs": [
    {
     "data": {
      "image/png": "[encoded data removed]",
      "text/plain": [
       "<Figure size 1080x432 with 3 Axes>"
      ]
     },
     "metadata": {},
     "output_type": "display_data"
    }
   ],
   "source": [
    "#creating bin in chart\n",
    "numerical_features = ['MonthlyCharges', 'TotalCharges', 'tenure'] \n",
    "fig, ax = plt.subplots(1, 3, figsize=(15, 6))\n",
    "# Use the following code to plot two overlays of histogram per each numerical_features, use a color of blue and orange, respectively\n",
    "df[df.Churn == 'No'][numerical_features].hist(bins=20, color='blue', alpha=0.5, ax=ax)\n",
    "df[df.Churn == 'Yes'][numerical_features].hist(bins=20, color='orange', alpha=0.5, ax=ax)\n",
    "plt.show()"
   ]
  },
  {
   "cell_type": "markdown",
   "id": "29fc6886-ecbb-4398-b391-378be28d1fc1",
   "metadata": {},
   "source": [
    "- Dapat kita ketahui bahwa untuk `MonthlyCharges` ada kecenderungan semakin kecil nilai biaya bulanan yang dikenakan, semakin kecil juga kecenderungan untuk melakukan `Churn`. \n",
    "- Untuk `TotalCharges` terlihat tidak ada kecenderungan apapun terhadap Churn customers. Untuk `tenure` ada kecenderungan semakin lama berlangganan customer, semakin kecil kecenderungan untuk melakukan `Churn`."
   ]
  },
  {
   "cell_type": "markdown",
   "id": "253c2177-ffa5-4427-ae7b-05ace42f6475",
   "metadata": {},
   "source": [
    "### Analisa categorical variables terhadap churn"
   ]
  },
  {
   "cell_type": "code",
   "execution_count": 81,
   "id": "154efcca-0009-4ee9-8de4-c9e3f74907a6",
   "metadata": {},
   "outputs": [
    {
     "data": {
      "image/png": "[encoded data removed]",
      "text/plain": [
       "<Figure size 1008x864 with 9 Axes>"
      ]
     },
     "metadata": {},
     "output_type": "display_data"
    }
   ],
   "source": [
    "from matplotlib import pyplot as plt\n",
    "import numpy as np\n",
    "import seaborn as sns\n",
    "sns.set(style='darkgrid')\n",
    "\n",
    "# Your code goes here\n",
    "fig, ax = plt.subplots(3, 3, figsize=(14, 12))\n",
    "sns.countplot(data=df, x='gender', hue='Churn', ax=ax[0][0])\n",
    "sns.countplot(data=df, x='Partner', hue='Churn', ax=ax[0][1])\n",
    "sns.countplot(data=df, x='SeniorCitizen', hue='Churn', ax=ax[0][2])\n",
    "sns.countplot(data=df, x='PhoneService', hue='Churn', ax=ax[1][0])\n",
    "sns.countplot(data=df, x='StreamingTV', hue='Churn', ax=ax[1][1])\n",
    "sns.countplot(data=df, x='InternetService', hue='Churn', ax=ax[1][2])\n",
    "sns.countplot(data=df, x='PaperlessBilling', hue='Churn', ax=ax[2][1])\n",
    "plt.tight_layout()\n",
    "plt.show()"
   ]
  },
  {
   "cell_type": "code",
   "execution_count": 82,
   "id": "fa91d02f-aa28-4fbe-a9ae-dacb069e46af",
   "metadata": {},
   "outputs": [
    {
     "name": "stdout",
     "output_type": "stream",
     "text": [
      "===Churn Rate by Gender===\n",
      "gender\n",
      "Female    0.267925\n",
      "Male      0.260485\n",
      "Name: Churn, dtype: float64\n",
      "\n",
      "\n",
      "===Churn Rate by Partner===\n",
      "Partner\n",
      "No     0.327485\n",
      "Yes    0.196487\n",
      "Name: Churn, dtype: float64\n",
      "\n",
      "\n",
      "===Churn Rate by Gender===\n",
      "gender\n",
      "Female    0.267925\n",
      "Male      0.260485\n",
      "Name: Churn, dtype: float64\n",
      "\n",
      "\n",
      "===Churn Rate by SeniorCitizen===\n",
      "SeniorCitizen\n",
      "No     0.234971\n",
      "Yes    0.414894\n",
      "Name: Churn, dtype: float64\n",
      "\n",
      "\n",
      "===Churn Rate by PhoneService===\n",
      "PhoneService\n",
      "No     0.245142\n",
      "Yes    0.266200\n",
      "Name: Churn, dtype: float64\n",
      "\n",
      "\n",
      "===Churn Rate by StreamingTV===\n",
      "StreamingTV\n",
      "No     0.242113\n",
      "Yes    0.299513\n",
      "Name: Churn, dtype: float64\n",
      "\n",
      "\n",
      "===Churn Rate by InternetService===\n",
      "InternetService\n",
      "No     0.073754\n",
      "Yes    0.316804\n",
      "Name: Churn, dtype: float64\n",
      "\n",
      "\n",
      "===Churn Rate by PaperlessBilling===\n",
      "PaperlessBilling\n",
      "No     0.162200\n",
      "Yes    0.334468\n",
      "Name: Churn, dtype: float64\n",
      "\n",
      "\n"
     ]
    }
   ],
   "source": [
    "df['Churn'] = df['Churn'].replace({'No': 0, 'Yes': 1})\n",
    "\n",
    "print(\"===Churn Rate by Gender===\")\n",
    "print(df.groupby('gender')['Churn'].mean())\n",
    "print(\"\\n\")\n",
    "\n",
    "print(\"===Churn Rate by Partner===\")\n",
    "print(df.groupby('Partner')['Churn'].mean())\n",
    "print(\"\\n\")\n",
    "\n",
    "print(\"===Churn Rate by Gender===\")\n",
    "print(df.groupby('gender')['Churn'].mean())\n",
    "print(\"\\n\")\n",
    "\n",
    "print(\"===Churn Rate by SeniorCitizen===\")\n",
    "print(df.groupby('SeniorCitizen')['Churn'].mean())\n",
    "print(\"\\n\")\n",
    "\n",
    "print(\"===Churn Rate by PhoneService===\")\n",
    "print(df.groupby('PhoneService')['Churn'].mean())\n",
    "print(\"\\n\")\n",
    "\n",
    "print(\"===Churn Rate by StreamingTV===\")\n",
    "print(df.groupby('StreamingTV')['Churn'].mean())\n",
    "print(\"\\n\")\n",
    "\n",
    "print(\"===Churn Rate by InternetService===\")\n",
    "print(df.groupby('InternetService')['Churn'].mean())\n",
    "print(\"\\n\")\n",
    "\n",
    "print(\"===Churn Rate by PaperlessBilling===\")\n",
    "print(df.groupby('PaperlessBilling')['Churn'].mean())\n",
    "print(\"\\n\")"
   ]
  },
  {
   "cell_type": "markdown",
   "id": "17cd23fb-7ad4-4840-b115-2218dbf9eb05",
   "metadata": {},
   "source": [
    "- Dapat kita ketahui bahwa tidak ada perbedaan yang signifikan untuk orang melakukan churn dilihat dari faktor jenis kelamin (gender) dan layanan telfonnya (PhoneService). \n",
    "- Akan tetapi ada kecenderungan bahwa orang yang melakukan churn adalah orang-orang yang tidak memiliki partner (partner: No), orang-orang yang statusnya adalah senior citizen(SeniorCitizen: Yes), orang-orang yang mempunyai layanan streaming TV (StreamingTV: Yes), orang-orang yang mempunyai layanan Internet (internetService: Yes) dan orang-orang yang tagihannya paperless (PaperlessBilling: Yes)."
   ]
  },
  {
   "cell_type": "markdown",
   "id": "35509027-dc98-4ba7-8618-a5448b47ea16",
   "metadata": {},
   "source": [
    "## Data pre-processing"
   ]
  },
  {
   "cell_type": "markdown",
   "id": "96417314-0f36-48ad-be92-5177c79f051b",
   "metadata": {},
   "source": [
    "### Menghapus Unnecessary Columns dari data\n",
    "Selanjutnya kita akan mengapus kolom yang tidak akan diikutsertakan dalam pemodelan, kemudian simpan dengan nama cleaned_df. Tampilkan 5 rows teratas nya.\n",
    "\n",
    "Gunakan `drop()` untuk menghapus kolom dari suatu data"
   ]
  },
  {
   "cell_type": "code",
   "execution_count": 98,
   "id": "647cfc15-b822-4053-9bf2-cef4ba541f4d",
   "metadata": {},
   "outputs": [
    {
     "data": {
      "text/html": [
       "<div>\n",
       "<style scoped>\n",
       "    .dataframe tbody tr th:only-of-type {\n",
       "        vertical-align: middle;\n",
       "    }\n",
       "\n",
       "    .dataframe tbody tr th {\n",
       "        vertical-align: top;\n",
       "    }\n",
       "\n",
       "    .dataframe thead th {\n",
       "        text-align: right;\n",
       "    }\n",
       "</style>\n",
       "<table border=\"1\" class=\"dataframe\">\n",
       "  <thead>\n",
       "    <tr style=\"text-align: right;\">\n",
       "      <th></th>\n",
       "      <th>gender</th>\n",
       "      <th>SeniorCitizen</th>\n",
       "      <th>Partner</th>\n",
       "      <th>tenure</th>\n",
       "      <th>PhoneService</th>\n",
       "      <th>StreamingTV</th>\n",
       "      <th>InternetService</th>\n",
       "      <th>PaperlessBilling</th>\n",
       "      <th>MonthlyCharges</th>\n",
       "      <th>TotalCharges</th>\n",
       "      <th>Churn</th>\n",
       "    </tr>\n",
       "  </thead>\n",
       "  <tbody>\n",
       "    <tr>\n",
       "      <th>0</th>\n",
       "      <td>Female</td>\n",
       "      <td>No</td>\n",
       "      <td>Yes</td>\n",
       "      <td>1</td>\n",
       "      <td>No</td>\n",
       "      <td>No</td>\n",
       "      <td>Yes</td>\n",
       "      <td>Yes</td>\n",
       "      <td>29.85</td>\n",
       "      <td>29.85</td>\n",
       "      <td>0</td>\n",
       "    </tr>\n",
       "    <tr>\n",
       "      <th>1</th>\n",
       "      <td>Male</td>\n",
       "      <td>No</td>\n",
       "      <td>Yes</td>\n",
       "      <td>60</td>\n",
       "      <td>Yes</td>\n",
       "      <td>No</td>\n",
       "      <td>No</td>\n",
       "      <td>Yes</td>\n",
       "      <td>20.50</td>\n",
       "      <td>1198.80</td>\n",
       "      <td>0</td>\n",
       "    </tr>\n",
       "    <tr>\n",
       "      <th>2</th>\n",
       "      <td>Male</td>\n",
       "      <td>No</td>\n",
       "      <td>No</td>\n",
       "      <td>5</td>\n",
       "      <td>Yes</td>\n",
       "      <td>Yes</td>\n",
       "      <td>Yes</td>\n",
       "      <td>No</td>\n",
       "      <td>104.10</td>\n",
       "      <td>541.90</td>\n",
       "      <td>1</td>\n",
       "    </tr>\n",
       "    <tr>\n",
       "      <th>3</th>\n",
       "      <td>Female</td>\n",
       "      <td>No</td>\n",
       "      <td>Yes</td>\n",
       "      <td>72</td>\n",
       "      <td>Yes</td>\n",
       "      <td>Yes</td>\n",
       "      <td>Yes</td>\n",
       "      <td>Yes</td>\n",
       "      <td>115.50</td>\n",
       "      <td>8312.75</td>\n",
       "      <td>0</td>\n",
       "    </tr>\n",
       "    <tr>\n",
       "      <th>4</th>\n",
       "      <td>Female</td>\n",
       "      <td>No</td>\n",
       "      <td>Yes</td>\n",
       "      <td>56</td>\n",
       "      <td>Yes</td>\n",
       "      <td>Yes</td>\n",
       "      <td>Yes</td>\n",
       "      <td>No</td>\n",
       "      <td>81.25</td>\n",
       "      <td>4620.40</td>\n",
       "      <td>0</td>\n",
       "    </tr>\n",
       "  </tbody>\n",
       "</table>\n",
       "</div>"
      ],
      "text/plain": [
       "   gender SeniorCitizen Partner  tenure PhoneService StreamingTV  \\\n",
       "0  Female            No     Yes       1           No          No   \n",
       "1    Male            No     Yes      60          Yes          No   \n",
       "2    Male            No      No       5          Yes         Yes   \n",
       "3  Female            No     Yes      72          Yes         Yes   \n",
       "4  Female            No     Yes      56          Yes         Yes   \n",
       "\n",
       "  InternetService PaperlessBilling  MonthlyCharges  TotalCharges  Churn  \n",
       "0             Yes              Yes           29.85         29.85      0  \n",
       "1              No              Yes           20.50       1198.80      0  \n",
       "2             Yes               No          104.10        541.90      1  \n",
       "3             Yes              Yes          115.50       8312.75      0  \n",
       "4             Yes               No           81.25       4620.40      0  "
      ]
     },
     "execution_count": 98,
     "metadata": {},
     "output_type": "execute_result"
    }
   ],
   "source": [
    "#Remove the unnecessary columns customerID & UpdatedAt\n",
    "cleaned_df = df.drop(['customerID','UpdatedAt'], axis=1)\n",
    "cleaned_df.head()"
   ]
  },
  {
   "cell_type": "markdown",
   "id": "7fa63b0b-e348-4661-88f7-4401e7f7eba3",
   "metadata": {},
   "source": [
    "### Encoding Data\n",
    "Gunakan data dari hasil dan analisa sebelumnya `cleaned_df`, untuk merubah value dari data yang masih berbentuk string untuk diubah ke dalam bentuk numeric menggunakan `LabelEncoder()`. Gunakan `describe()` untuk melihat deskripsi datanya."
   ]
  },
  {
   "cell_type": "code",
   "execution_count": 100,
   "id": "7f00f264-e170-444b-a587-f591d57cef4d",
   "metadata": {},
   "outputs": [
    {
     "name": "stdout",
     "output_type": "stream",
     "text": [
      "            gender  SeniorCitizen      Partner       tenure  PhoneService  \\\n",
      "count  6950.000000    6950.000000  6950.000000  6950.000000   6950.000000   \n",
      "mean      0.504317       0.162302     0.483309    32.415827      0.903741   \n",
      "std       0.500017       0.368754     0.499757    24.561336      0.294967   \n",
      "min       0.000000       0.000000     0.000000     0.000000      0.000000   \n",
      "25%       0.000000       0.000000     0.000000     9.000000      1.000000   \n",
      "50%       1.000000       0.000000     0.000000    29.000000      1.000000   \n",
      "75%       1.000000       0.000000     1.000000    55.000000      1.000000   \n",
      "max       1.000000       1.000000     1.000000    73.000000      1.000000   \n",
      "\n",
      "       StreamingTV  InternetService  PaperlessBilling  MonthlyCharges  \\\n",
      "count  6950.000000      6950.000000       6950.000000     6950.000000   \n",
      "mean      0.384317         0.783453          0.591942       64.992201   \n",
      "std       0.486468         0.411921          0.491509       30.032040   \n",
      "min       0.000000         0.000000          0.000000        0.000000   \n",
      "25%       0.000000         1.000000          0.000000       36.462500   \n",
      "50%       0.000000         1.000000          1.000000       70.450000   \n",
      "75%       1.000000         1.000000          1.000000       89.850000   \n",
      "max       1.000000         1.000000          1.000000      169.931250   \n",
      "\n",
      "       TotalCharges        Churn  \n",
      "count   6950.000000  6950.000000  \n",
      "mean    2286.058750     0.264173  \n",
      "std     2265.702553     0.440923  \n",
      "min       19.000000     0.000000  \n",
      "25%      406.975000     0.000000  \n",
      "50%     1400.850000     0.000000  \n",
      "75%     3799.837500     1.000000  \n",
      "max     8889.131250     1.000000  \n"
     ]
    },
    {
     "name": "stderr",
     "output_type": "stream",
     "text": [
      "/var/folders/zj/49qhjy1s3h93wb3j3_v2d9700000gn/T/ipykernel_44850/1634581352.py:4: DeprecationWarning: Converting `np.inexact` or `np.floating` to a dtype is deprecated. The current result is `float64` which is not strictly correct.\n",
      "  if cleaned_df[column].dtype == np.number: continue\n"
     ]
    }
   ],
   "source": [
    "from sklearn.preprocessing import LabelEncoder\n",
    "#Convert all the non-numeric columns to numerical data types\n",
    "for column in cleaned_df.columns:\n",
    "\tif cleaned_df[column].dtype == np.number: continue\n",
    "\t# Perform encoding for each non-numeric column\n",
    "\tcleaned_df[column] = LabelEncoder().fit_transform(cleaned_df[column])\n",
    "print(cleaned_df.describe())"
   ]
  },
  {
   "cell_type": "markdown",
   "id": "3e12c858-a2aa-4d42-829f-fe7110f7b05f",
   "metadata": {},
   "source": [
    "## Splitting Dataset\n",
    "> Gunakan data dari hasil dan analisa sebelumnya cleaned_df, untuk dibagi datasetnya menjadi 2 bagian (70% training & 30% testing) berdasarkan variable predictor (X) dan targetnya (Y). Gunakan train_test_split() untuk membagi data tersebut. Sertakan value_counts untuk mengecek apakah pembagian sudah sama proporsinya. Simpan hasil spliting data menjadi x_train, y_train, x_test & y_test"
   ]
  },
  {
   "cell_type": "code",
   "execution_count": 101,
   "id": "65a417eb-64b2-4dc7-9df3-fc7bea700935",
   "metadata": {},
   "outputs": [
    {
     "name": "stdout",
     "output_type": "stream",
     "text": [
      "Jumlah baris dan kolom dari x_train adalah: (4865, 10) , sedangkan Jumlah baris dan kolom dari y_train adalah: (4865,)\n",
      "Prosentase Churn di data Training adalah:\n",
      "0    0.735868\n",
      "1    0.264132\n",
      "Name: Churn, dtype: float64\n",
      "\n",
      "Jumlah baris dan kolom dari x_test adalah: (2085, 10) , sedangkan Jumlah baris dan kolom dari y_test adalah: (2085,)\n",
      "Prosentase Churn di data Testing adalah:\n",
      "0    0.735731\n",
      "1    0.264269\n",
      "Name: Churn, dtype: float64\n"
     ]
    }
   ],
   "source": [
    "from sklearn.model_selection import train_test_split\n",
    "# Predictor dan target\n",
    "X = cleaned_df.drop('Churn', axis = 1)\n",
    "y = cleaned_df['Churn']\n",
    "# Splitting train and test\n",
    "x_train, x_test, y_train, y_test = train_test_split(X, y, test_size=0.3, random_state=42, stratify=y)\n",
    "# Print according to the expected result\n",
    "print('Jumlah baris dan kolom dari x_train adalah:', x_train.shape,', sedangkan Jumlah baris dan kolom dari y_train adalah:', y_train.shape)\n",
    "print('Prosentase Churn di data Training adalah:')\n",
    "print(y_train.value_counts(normalize=True))\n",
    "\n",
    "print('\\nJumlah baris dan kolom dari x_test adalah:', x_test.shape,', sedangkan Jumlah baris dan kolom dari y_test adalah:', y_test.shape)\n",
    "print('Prosentase Churn di data Testing adalah:')\n",
    "print(y_test.value_counts(normalize=True))"
   ]
  },
  {
   "cell_type": "markdown",
   "id": "6a705b60-14cb-47d2-acc2-1db3e38c9a5a",
   "metadata": {},
   "source": [
    "## Built machine learning model"
   ]
  },
  {
   "cell_type": "markdown",
   "id": "b9a7ab2e-4893-48a6-a0d9-5afc11129ca1",
   "metadata": {},
   "source": [
    "- Selanjutnya kita akan membuat model dengan menggunakan Algoritma Logistic Regression.\n",
    "- Logistic Regression adalah sebuah algoritma klasifikasi untuk mencari hubungan antara fitur (input) diskrit/kontinu dengan probabilitas hasil output diskrit tertentu.\n",
    "- Gunakan LogisticRegression() memanggil algoritma tersebut, fit ke data train dan simpan sebagai log_model"
   ]
  },
  {
   "cell_type": "code",
   "execution_count": 102,
   "id": "89abf391-dbdb-4ee0-b03f-eb2d1f5d205a",
   "metadata": {},
   "outputs": [],
   "source": [
    "from sklearn.linear_model import LogisticRegression\n",
    "log_model = LogisticRegression().fit(x_train,y_train)"
   ]
  },
  {
   "cell_type": "code",
   "execution_count": 103,
   "id": "4e97460c-907e-421a-9585-99a6fab311b8",
   "metadata": {},
   "outputs": [
    {
     "name": "stdout",
     "output_type": "stream",
     "text": [
      "Classification Report Training Model (Logistic Regression) :\n",
      "              precision    recall  f1-score   support\n",
      "\n",
      "           0       0.83      0.90      0.86      1534\n",
      "           1       0.63      0.50      0.56       551\n",
      "\n",
      "    accuracy                           0.79      2085\n",
      "   macro avg       0.73      0.70      0.71      2085\n",
      "weighted avg       0.78      0.79      0.78      2085\n",
      "\n"
     ]
    }
   ],
   "source": [
    "from sklearn.metrics import classification_report\n",
    "# Predict\n",
    "y_test_pred = log_model.predict(x_test)\n",
    "# Print classification report\n",
    "print('Classification Report Training Model (Logistic Regression) :')\n",
    "print(classification_report(y_test, y_test_pred))"
   ]
  },
  {
   "cell_type": "code",
   "execution_count": 108,
   "id": "41cc933a-1bbf-4cc3-b2ad-f1b06c3bcf50",
   "metadata": {},
   "outputs": [],
   "source": [
    "from sklearn.metrics import confusion_matrix\n",
    " \n",
    "cm = confusion_matrix(y_test,y_test_pred)"
   ]
  },
  {
   "cell_type": "code",
   "execution_count": 123,
   "id": "e16142e0-84ef-4e4f-8637-83726c2e6158",
   "metadata": {},
   "outputs": [
    {
     "name": "stdout",
     "output_type": "stream",
     "text": [
      "[[1374  160]\n",
      " [ 277  274]]\n"
     ]
    }
   ],
   "source": [
    "print(cm)"
   ]
  },
  {
   "cell_type": "code",
   "execution_count": 124,
   "id": "263664ea-4a27-4f6f-a73f-abf5224579cf",
   "metadata": {},
   "outputs": [],
   "source": [
    "TN = cm[0][0]\n",
    "FN = cm[1][0]\n",
    "TP = cm[1][1]\n",
    "FP = cm[0][1]"
   ]
  },
  {
   "cell_type": "code",
   "execution_count": 125,
   "id": "3b9f5b1f-d282-4c82-8743-708b41c06bde",
   "metadata": {},
   "outputs": [
    {
     "name": "stdout",
     "output_type": "stream",
     "text": [
      "True Postive : 274\n",
      "True Negative : 1374\n",
      "False Postive : 160\n",
      "False Negative : 277\n"
     ]
    }
   ],
   "source": [
    "print(\"True Postive :\", TP)\n",
    "print(\"True Negative :\", TN)\n",
    "print(\"False Postive :\", FP)\n",
    "print(\"False Negative :\", FN)"
   ]
  },
  {
   "cell_type": "markdown",
   "id": "dfa6881d-43c2-4f45-8f13-d685775eabd7",
   "metadata": {},
   "source": [
    "> - True postive : customers yang di prediksi akan churn dan secara actual mereka churn\n",
    "> - True negative : customers yang di prediksi tidak akan churn dan secara actual mareka tidak churn\n",
    "> - False Positive : customers yang di prediksi akan churn ternyata mereka actualnya tidak churn\n",
    "> - False Negative : customers yang di prediksi tidak akan churn ternyata meeka actualnya churn"
   ]
  },
  {
   "cell_type": "code",
   "execution_count": null,
   "id": "1a10f5b0-8ced-41fe-82df-6896cd4a2cb6",
   "metadata": {},
   "outputs": [],
   "source": []
  }
 ],
 "metadata": {
  "kernelspec": {
   "display_name": "Python 3 (ipykernel)",
   "language": "python",
   "name": "python3"
  },
  "language_info": {
   "codemirror_mode": {
    "name": "ipython",
    "version": 3
   },
   "file_extension": ".py",
   "mimetype": "text/x-python",
   "name": "python",
   "nbconvert_exporter": "python",
   "pygments_lexer": "ipython3",
   "version": "3.9.12"
  }
 },
 "nbformat": 4,
 "nbformat_minor": 5
}
